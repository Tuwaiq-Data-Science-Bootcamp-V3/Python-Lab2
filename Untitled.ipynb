{
 "cells": [
  {
   "cell_type": "code",
   "execution_count": 1,
   "id": "3e9691a6",
   "metadata": {},
   "outputs": [
    {
     "data": {
      "text/plain": [
       "'Top Gun'"
      ]
     },
     "execution_count": 1,
     "metadata": {},
     "output_type": "execute_result"
    }
   ],
   "source": [
    "movie = \"Top Gun\"\n",
    "movie"
   ]
  },
  {
   "cell_type": "code",
   "execution_count": 3,
   "id": "49075b4a",
   "metadata": {},
   "outputs": [
    {
     "name": "stdout",
     "output_type": "stream",
     "text": [
      "I recommended it, It is good\n"
     ]
    }
   ],
   "source": [
    "TopGun = 3\n",
    "PopularityScore = 72.65\n",
    "if TopGun >= 4 and PopularityScore >= 80:\n",
    "    print (\"Highly recommended\")\n",
    "    \n",
    "elif TopGun >= 3 and PopularityScore >= 70:\n",
    "    print (\"I recommended it, It is good\")\n",
    "\n",
    "elif TopGun >= 2 and PopularityScore >= 60:\n",
    "    print (\"You should check it out!\")    \n",
    "else:\n",
    "    print(\"Don't watch it, It is a waste of time\")\n",
    "    \n",
    "    \n",
    "   "
   ]
  },
  {
   "cell_type": "code",
   "execution_count": null,
   "id": "abac66d2",
   "metadata": {},
   "outputs": [],
   "source": []
  },
  {
   "cell_type": "code",
   "execution_count": null,
   "id": "251ce691",
   "metadata": {},
   "outputs": [],
   "source": []
  }
 ],
 "metadata": {
  "kernelspec": {
   "display_name": "Python 3 (ipykernel)",
   "language": "python",
   "name": "python3"
  },
  "language_info": {
   "codemirror_mode": {
    "name": "ipython",
    "version": 3
   },
   "file_extension": ".py",
   "mimetype": "text/x-python",
   "name": "python",
   "nbconvert_exporter": "python",
   "pygments_lexer": "ipython3",
   "version": "3.9.13"
  }
 },
 "nbformat": 4,
 "nbformat_minor": 5
}
