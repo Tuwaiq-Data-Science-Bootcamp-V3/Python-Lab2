{
 "cells": [
  {
   "cell_type": "markdown",
   "id": "2947cb24",
   "metadata": {},
   "source": [
    "# Zainab Melaibari"
   ]
  },
  {
   "cell_type": "markdown",
   "id": "24228b03",
   "metadata": {},
   "source": [
    "# Python-Lab2\n",
    "\n",
    "## Conditions\n",
    "\n",
    "### You want to recommend a movie to a friend based on the rating and popularity. To accomplish this do the following: \n",
    "\n",
    "- Create a variable for the movie (choose any movie you like).\n",
    "- Create a variable of type int to hold the rating of the movie out of 5. Give this movie rate = 3\n",
    "- Create a popularity score of type float, let it be 72.65\n",
    "- Using an if statement:\n",
    "  - Check if the movie rating is 4 or greater and the popularity is greater than 80, print \"Highly recommended\".\n",
    "  - Else if the movie rating is 3 or greater and the popularity is greater than 70, print \"I recommended it, It is good\".\n",
    "  - Else if the movie rating is 2 or less and the popularity is greater than 60, print \"You should check it out!\".\n",
    "  - Else the movie rating is 2 or less and the popularity is less than 50, print \"Don't watch it, It is a waste of time\".\n"
   ]
  },
  {
   "cell_type": "code",
   "execution_count": 1,
   "id": "efd5f98d",
   "metadata": {},
   "outputs": [],
   "source": [
    "# Create a variable for the movie.\n",
    "movie = \"The Hunger Games\""
   ]
  },
  {
   "cell_type": "code",
   "execution_count": 2,
   "id": "c3f1cc11",
   "metadata": {},
   "outputs": [],
   "source": [
    "# Create a variable of type int to hold the rating of the movie out of 5. Give this movie rate = 3\n",
    "rating = 3"
   ]
  },
  {
   "cell_type": "code",
   "execution_count": 3,
   "id": "474a257a",
   "metadata": {},
   "outputs": [],
   "source": [
    "# Create a popularity score of type float, let it be 72.65\n",
    "populScore = 72.65"
   ]
  },
  {
   "cell_type": "code",
   "execution_count": 4,
   "id": "b16821eb",
   "metadata": {},
   "outputs": [
    {
     "name": "stdout",
     "output_type": "stream",
     "text": [
      "I recommended it, It is good\n"
     ]
    }
   ],
   "source": [
    "# Recommendation conditions\n",
    "\n",
    "if (rating >= 4) and (populScore>80):\n",
    "    print(\"Highly recommended\")\n",
    "elif (rating >= 3) and (populScore>70):\n",
    "    print(\"I recommended it, It is good\")\n",
    "elif (rating <= 2) and (populScore>60):\n",
    "    print(\"You should check it out!\")\n",
    "elif (rating <= 2) and (populScore<50):\n",
    "    print(\"Don't watch it, It is a waste of time\")"
   ]
  }
 ],
 "metadata": {
  "kernelspec": {
   "display_name": "Python 3 (ipykernel)",
   "language": "python",
   "name": "python3"
  },
  "language_info": {
   "codemirror_mode": {
    "name": "ipython",
    "version": 3
   },
   "file_extension": ".py",
   "mimetype": "text/x-python",
   "name": "python",
   "nbconvert_exporter": "python",
   "pygments_lexer": "ipython3",
   "version": "3.9.12"
  }
 },
 "nbformat": 4,
 "nbformat_minor": 5
}
