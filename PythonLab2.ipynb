{
 "cells": [
  {
   "cell_type": "code",
   "execution_count": 19,
   "id": "449773f8",
   "metadata": {},
   "outputs": [
    {
     "name": "stdout",
     "output_type": "stream",
     "text": [
      "I recommended it, It is good\n"
     ]
    }
   ],
   "source": [
    "MyFavMovie = (\"Green mile\")\n",
    "RatingOf5 = 3\n",
    "ScorePopularity  = 72.65\n",
    "\n",
    "if RatingOf5 >= 4 and ScorePopularity > 80:\n",
    "    print(\"Highly recommended\")\n",
    "elif RatingOf5 >= 3 and ScorePopularity > 70:\n",
    "    print(\"I recommended it, It is good\")\n",
    "elif RatingOf5 <= 2 and ScorePopularity > 60:\n",
    "    print(\"You should check it out!\")\n",
    "elif RatingOf5 <= 2 and ScorePopularity > 50:\n",
    "    print(\"Don't watch it, It is a waste of time\")\n",
    "    \n",
    "\n"
   ]
  },
  {
   "cell_type": "code",
   "execution_count": null,
   "id": "7578fe37",
   "metadata": {},
   "outputs": [],
   "source": []
  },
  {
   "cell_type": "code",
   "execution_count": null,
   "id": "33cdc9a2",
   "metadata": {},
   "outputs": [],
   "source": []
  }
 ],
 "metadata": {
  "kernelspec": {
   "display_name": "Python 3 (ipykernel)",
   "language": "python",
   "name": "python3"
  },
  "language_info": {
   "codemirror_mode": {
    "name": "ipython",
    "version": 3
   },
   "file_extension": ".py",
   "mimetype": "text/x-python",
   "name": "python",
   "nbconvert_exporter": "python",
   "pygments_lexer": "ipython3",
   "version": "3.9.13"
  }
 },
 "nbformat": 4,
 "nbformat_minor": 5
}
