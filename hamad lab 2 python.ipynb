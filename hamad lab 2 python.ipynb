{
 "cells": [
  {
   "cell_type": "code",
   "execution_count": 4,
   "id": "f63c85d3",
   "metadata": {},
   "outputs": [
    {
     "name": "stdout",
     "output_type": "stream",
     "text": [
      "I recommended it, It is good\n"
     ]
    }
   ],
   "source": [
    "Friends = 3\n",
    "PopularityScore = 72.65\n",
    "if Friends >= 4 and PopularityScore >= 80:\n",
    "    print (\"Highly recommended\")\n",
    "\n",
    "elif Friends >= 3 and PopularityScore >= 70:\n",
    "    print (\"I recommended it, It is good\")\n",
    "\n",
    "elif Friends >= 2 and PopularityScore >= 60:\n",
    "    print (\"You should check it out!\")\n",
    "else:\n",
    "    print(\"Don't watch it, It is a waste of time\")"
   ]
  },
  {
   "cell_type": "code",
   "execution_count": 3,
   "id": "02aa49bb",
   "metadata": {},
   "outputs": [
    {
     "name": "stdout",
     "output_type": "stream",
     "text": [
      "the rating of the movie is: 3 out of 5\n"
     ]
    }
   ],
   "source": [
    "rate = 3 \n",
    "print (\"the rating of the movie is:\", rate, \"out of 5\")"
   ]
  },
  {
   "cell_type": "code",
   "execution_count": 2,
   "id": "2dc96301",
   "metadata": {},
   "outputs": [
    {
     "data": {
      "text/plain": [
       "'Friends'"
      ]
     },
     "execution_count": 2,
     "metadata": {},
     "output_type": "execute_result"
    }
   ],
   "source": [
    "Movie = \"Friends\"\n",
    "Movie"
   ]
  }
 ],
 "metadata": {
  "kernelspec": {
   "display_name": "Python 3 (ipykernel)",
   "language": "python",
   "name": "python3"
  },
  "language_info": {
   "codemirror_mode": {
    "name": "ipython",
    "version": 3
   },
   "file_extension": ".py",
   "mimetype": "text/x-python",
   "name": "python",
   "nbconvert_exporter": "python",
   "pygments_lexer": "ipython3",
   "version": "3.9.13"
  }
 },
 "nbformat": 4,
 "nbformat_minor": 5
}
