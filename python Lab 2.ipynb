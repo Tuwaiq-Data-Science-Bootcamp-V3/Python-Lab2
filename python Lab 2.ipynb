{
 "cells": [
  {
   "cell_type": "code",
   "execution_count": 8,
   "id": "520ffc24",
   "metadata": {},
   "outputs": [
    {
     "name": "stdout",
     "output_type": "stream",
     "text": [
      "I recommended it, It is good\n"
     ]
    }
   ],
   "source": [
    "mouvi='the call'\n",
    "rate_out_of_five=3\n",
    "popularity_score=72.65\n",
    "if (rate_out_of_five>=4)&(popularity_score>80):\n",
    "    print(\"Highly recommended\")\n",
    "elif(rate_out_of_five>=3)&(popularity_score>70):\n",
    "    print(\"I recommended it, It is good\")\n",
    "elif(rate_out_of_five<=2)&(popularity_score>60):\n",
    "    print(\"You should check it out!\")\n",
    "else:\n",
    "    print(\"Don't watch it, It is a waste of time\")"
   ]
  }
 ],
 "metadata": {
  "kernelspec": {
   "display_name": "Python 3 (ipykernel)",
   "language": "python",
   "name": "python3"
  },
  "language_info": {
   "codemirror_mode": {
    "name": "ipython",
    "version": 3
   },
   "file_extension": ".py",
   "mimetype": "text/x-python",
   "name": "python",
   "nbconvert_exporter": "python",
   "pygments_lexer": "ipython3",
   "version": "3.9.13"
  }
 },
 "nbformat": 4,
 "nbformat_minor": 5
}
