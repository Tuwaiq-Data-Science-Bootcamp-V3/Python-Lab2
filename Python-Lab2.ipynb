{
 "cells": [
  {
   "cell_type": "code",
   "execution_count": 1,
   "id": "449d7de1",
   "metadata": {},
   "outputs": [
    {
     "name": "stdout",
     "output_type": "stream",
     "text": [
      "I recommended it, It is good.\n"
     ]
    }
   ],
   "source": [
    "Movie =\"Jhon\"\n",
    "Rate =3\n",
    "Popularity =72.65\n",
    "if Rate >=4 and Popularity >80:\n",
    "    print(\"Highly recommended.\")\n",
    "elif Rate >=3 and Popularity >=70:\n",
    "    print(\"I recommended it, It is good.\")\n",
    "elif Rate >=2 and Popularity >=60:\n",
    "    print(\"You should check it out!.\")\n",
    "else:\n",
    "    print(\"Don't watch it, It is a waste of time.\")"
   ]
  },
  {
   "cell_type": "code",
   "execution_count": null,
   "id": "aeee8429",
   "metadata": {},
   "outputs": [],
   "source": []
  }
 ],
 "metadata": {
  "kernelspec": {
   "display_name": "Python 3 (ipykernel)",
   "language": "python",
   "name": "python3"
  },
  "language_info": {
   "codemirror_mode": {
    "name": "ipython",
    "version": 3
   },
   "file_extension": ".py",
   "mimetype": "text/x-python",
   "name": "python",
   "nbconvert_exporter": "python",
   "pygments_lexer": "ipython3",
   "version": "3.10.9"
  }
 },
 "nbformat": 4,
 "nbformat_minor": 5
}
