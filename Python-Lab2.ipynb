{
 "cells": [
  {
   "cell_type": "markdown",
   "id": "aa0e8cff",
   "metadata": {},
   "source": [
    "# Python-Lab2\n",
    "\n",
    "## Conditions\n",
    "\n",
    "### You want to recommend a movie to a friend based on the rating and popularity. To accomplish this do the following: \n",
    "\n",
    "- Create a variable for the movie (choose any movie you like).\n",
    "- Create a variable of type int to hold the rating of the movie out of 5. Give this movie rate = 3\n",
    "- Create a popularity score of type float, let it be 72.65\n",
    "- Using an if statement:\n",
    "  - Check if the movie rating is 4 or greater and the popularity is greater than 80, print \"Highly recommended\".\n",
    "  - Else if the movie rating is 3 or greater and the popularity is greater than 70, print \"I recommended it, It is good\".\n",
    "  - Else if the movie rating is 2 or less and the popularity is greater than 60, print \"You should check it out!\".\n",
    "  - Else the movie rating is 2 or less and the popularity is less than 50, print \"Don't watch it, It is a waste of time\".\n"
   ]
  },
  {
   "cell_type": "code",
   "execution_count": 8,
   "id": "de280aa3",
   "metadata": {},
   "outputs": [],
   "source": [
    "starwars = 'star wars'\n",
    "rating = 3 \n",
    "popularity = 72.65"
   ]
  },
  {
   "cell_type": "code",
   "execution_count": 9,
   "id": "b4c3cb67",
   "metadata": {},
   "outputs": [
    {
     "data": {
      "text/plain": [
       "str"
      ]
     },
     "execution_count": 9,
     "metadata": {},
     "output_type": "execute_result"
    }
   ],
   "source": [
    "type(starwars)"
   ]
  },
  {
   "cell_type": "code",
   "execution_count": 10,
   "id": "de4a5798",
   "metadata": {
    "scrolled": true
   },
   "outputs": [
    {
     "data": {
      "text/plain": [
       "int"
      ]
     },
     "execution_count": 10,
     "metadata": {},
     "output_type": "execute_result"
    }
   ],
   "source": [
    "type(rate)"
   ]
  },
  {
   "cell_type": "code",
   "execution_count": 11,
   "id": "e11b436e",
   "metadata": {},
   "outputs": [
    {
     "data": {
      "text/plain": [
       "float"
      ]
     },
     "execution_count": 11,
     "metadata": {},
     "output_type": "execute_result"
    }
   ],
   "source": [
    "type(popularity)"
   ]
  },
  {
   "cell_type": "code",
   "execution_count": 17,
   "id": "b1510836",
   "metadata": {},
   "outputs": [],
   "source": [
    "def check_movie(rating, popularity, movie):\n",
    "    if rating >= 4 and popularity > 80:\n",
    "        print(\"Highly recommnded\")\n",
    "    elif rating >= 3 and popularity > 70:\n",
    "        print(\"I recommended it, It is good\")\n",
    "    elif rating >= 2 and popularity > 60:\n",
    "        print(\"You should check it out\")\n",
    "    else:\n",
    "        print(\"Don't watch it, It is a waste of time\")\n",
    "    print(f\"the Movie name is {movie}\")"
   ]
  },
  {
   "cell_type": "code",
   "execution_count": 18,
   "id": "75807360",
   "metadata": {},
   "outputs": [
    {
     "name": "stdout",
     "output_type": "stream",
     "text": [
      "I recommended it, It is good\n",
      "the Movie name is star wars\n"
     ]
    }
   ],
   "source": [
    "check_movie(rating, popularity, starwars)"
   ]
  },
  {
   "cell_type": "code",
   "execution_count": 28,
   "id": "65414fad",
   "metadata": {},
   "outputs": [
    {
     "data": {
      "text/plain": [
       "function"
      ]
     },
     "execution_count": 28,
     "metadata": {},
     "output_type": "execute_result"
    }
   ],
   "source": [
    "type(check_movie)"
   ]
  },
  {
   "cell_type": "code",
   "execution_count": null,
   "id": "601bf298",
   "metadata": {},
   "outputs": [],
   "source": []
  }
 ],
 "metadata": {
  "kernelspec": {
   "display_name": "Python 3 (ipykernel)",
   "language": "python",
   "name": "python3"
  },
  "language_info": {
   "codemirror_mode": {
    "name": "ipython",
    "version": 3
   },
   "file_extension": ".py",
   "mimetype": "text/x-python",
   "name": "python",
   "nbconvert_exporter": "python",
   "pygments_lexer": "ipython3",
   "version": "3.10.9"
  }
 },
 "nbformat": 4,
 "nbformat_minor": 5
}
